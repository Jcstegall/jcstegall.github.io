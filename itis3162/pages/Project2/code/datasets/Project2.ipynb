{
  "cells": [
    {
      "cell_type": "markdown",
      "id": "fae6edd5",
      "metadata": {},
      "source": [
        "\n",
        "# Data Mining Project: Titanic Survival Classification\n",
        "\n",
        "---\n",
        "\n",
        "## 1. Introduction to the Problem\n",
        "\n",
        "This project is aiming to solve is to **predict whether a passenger survived the Titanic disaster** based on their demographic and travel information.  \n",
        "This is a **classification problem** because the target variable (Survived) is categorical (0 = No, 1 = Yes).  \n",
        "\n",
        "**Questions:**  \n",
        "- Can we accurately predict if a passenger survived based on their characteristics?  \n",
        "- Which features are most important for survival?  \n"
      ]
    },
    {
      "cell_type": "markdown",
      "id": "6927b37d",
      "metadata": {},
      "source": [
        "\n",
        "## 2. Introduction to the Data\n",
        "\n",
        "The data for this problem is the **Titanic dataset**, which contains passenger information (name, age, gender, class, etc.) and survival status.  \n",
        "- Source: [Kaggle Titanic Dataset](https://www.kaggle.com/c/titanic/data)  \n",
        "- The dataset contains 891 rows and 12 columns.  \n",
        "\n",
        "**Features include:**  \n",
        "- **pclass**: Ticket class (1 = 1st, 2 = 2nd, 3 = 3rd)  \n",
        "- **sex**: Gender  \n",
        "- **age**: Age in years  \n",
        "- **sibsp**: # of siblings/spouses aboard  \n",
        "- **parch**: # of parents/children aboard  \n",
        "- **fare**: Passenger fare  \n",
        "- **embarked**: Port of Embarkation (C = Cherbourg, Q = Queenstown, S = Southampton)  \n",
        "- **survived**: Target (0 = No, 1 = Yes)  \n"
      ]
    },
    {
      "cell_type": "code",
      "execution_count": null,
      "id": "862682bd",
      "metadata": {},
      "outputs": [
        {
          "ename": "",
          "evalue": "",
          "output_type": "error",
          "traceback": [
            "\u001b[1;31mRunning cells with 'ITCS-3162 (Python 3.13.5)' requires the ipykernel package.\n",
            "\u001b[1;31m<a href='command:jupyter.createPythonEnvAndSelectController'>Create a Python Environment</a> with the required packages.\n",
            "\u001b[1;31mOr install 'ipykernel' using the command: 'conda install -n ITCS-3162 ipykernel --update-deps --force-reinstall'"
          ]
        }
      ],
      "source": [
        "\n",
        "import pandas as pd\n",
        "import seaborn as sns\n",
        "data = pd.read_csv(\"data/titanic.csv\")\n"
      ]
    },
    {
      "cell_type": "markdown",
      "id": "94ee27c7",
      "metadata": {},
      "source": [
        "\n",
        "## 3. Pre-processing the Data\n",
        "\n",
        "Steps:  \n",
        "- Drop irrelevant columns (like name, deck, embark_town).  \n",
        "- Handle missing values in `age` and `embarked`.  \n",
        "- Encode categorical variables (sex, class, embarked).  \n",
        "- Ensure target variable is numeric.  \n"
      ]
    },
    {
      "cell_type": "code",
      "execution_count": null,
      "id": "36a0782c",
      "metadata": {},
      "outputs": [],
      "source": [
        "# Drop unnecessary columns\n",
        "data = data.drop(columns=[\"class\", \"deck\", \"embark_town\", \"alive\", \"adult_male\", \"who\"])\n",
        "\n",
        "# Handle missing values \n",
        "data[\"age\"] = data[\"age\"].fillna(data[\"age\"].median())\n",
        "data[\"embarked\"] = data[\"embarked\"].fillna(data[\"embarked\"].mode()[0])\n",
        "\n",
        "# Encode categorical variables\n",
        "from sklearn.preprocessing import LabelEncoder\n",
        "encoder = LabelEncoder()\n",
        "\n",
        "for col in [\"sex\", \"embarked\"]:\n",
        "    data[col] = encoder.fit_transform(data[col])\n",
        "\n",
        "# Drop rows with missing target\n",
        "data = data.dropna(subset=[\"survived\"])\n",
        "\n",
        "data.head()"
      ]
    },
    {
      "cell_type": "markdown",
      "id": "7a4d6ba1",
      "metadata": {},
      "source": [
        "\n",
        "## 4. Data Understanding / Visualization \n",
        "\n",
        "We will visualize the dataset to explore:  \n",
        "- Survival rate by gender, class, and age.  \n",
        "- Correlation heatmap.  \n"
      ]
    },
    {
      "cell_type": "code",
      "execution_count": null,
      "id": "6ab42b33",
      "metadata": {},
      "outputs": [],
      "source": [
        "import matplotlib.pyplot as plt\n",
        "import seaborn as sns\n",
        "\n",
        "# Survival by gender\n",
        "sns.countplot(x=\"sex\", hue=\"survived\", data=data)\n",
        "plt.xlabel(\"Sex (0=Female, 1=Male)\")\n",
        "plt.ylabel(\"Count\")\n",
        "plt.title(\"Survival by Gender (0=Did not survive, 1=Survived)\")\n",
        "plt.legend(title=\"Survived\", labels=[\"No\", \"Yes\"])\n",
        "plt.show()\n",
        "\n",
        "# Survival by class\n",
        "sns.countplot(x=\"pclass\", hue=\"survived\", data=data)\n",
        "plt.xlabel(\"Passenger Class\")\n",
        "plt.ylabel(\"Count\")\n",
        "plt.title(\"Survival by Class (0=Did not survive, 1=Survived)\")\n",
        "plt.legend(title=\"Survived\", labels=[\"No\", \"Yes\"])\n",
        "plt.show()\n",
        "\n",
        "# Age distribution\n",
        "sns.histplot(data=data, x=\"age\", hue=\"survived\", bins=30, kde=True)\n",
        "plt.xlabel(\"Age\")\n",
        "plt.ylabel(\"Count\")\n",
        "plt.title(\"Age Distribution by Survival (0=Did not survive, 1=Survived)\")\n",
        "plt.legend(title=\"Survived\", labels=[\"No\", \"Yes\"])\n",
        "plt.show()"
      ]
    },
    {
      "cell_type": "markdown",
      "id": "1b39c46b",
      "metadata": {},
      "source": [
        "\n",
        "## 5. Modeling \n",
        "\n",
        "These are the three classification models tested:  \n",
        "- **Logistic Regression** (linear baseline).  \n",
        "- **Decision Tree** (non-linear, interpretable).  \n",
        "- **Random Forest** (ensemble, usually more accurate).  \n"
      ]
    },
    {
      "cell_type": "code",
      "execution_count": null,
      "id": "eb911761",
      "metadata": {},
      "outputs": [],
      "source": [
        "\n",
        "from sklearn.model_selection import train_test_split\n",
        "from sklearn.linear_model import LogisticRegression\n",
        "from sklearn.tree import DecisionTreeClassifier\n",
        "from sklearn.ensemble import RandomForestClassifier\n",
        "\n",
        "# Features and target\n",
        "X = data.drop(\"survived\", axis=1)\n",
        "y = data[\"survived\"]\n",
        "\n",
        "# Train/test split\n",
        "X_train, X_test, y_train, y_test = train_test_split(X, y, test_size=0.3, random_state=40)\n",
        "\n",
        "# Initialize models\n",
        "log_model = LogisticRegression(max_iter=500)\n",
        "tree_model = DecisionTreeClassifier(random_state=42)\n",
        "forest_model = RandomForestClassifier(random_state=42)\n",
        "\n",
        "# Fit models\n",
        "log_model.fit(X_train, y_train)\n",
        "tree_model.fit(X_train, y_train)\n",
        "forest_model.fit(X_train, y_train)\n"
      ]
    },
    {
      "cell_type": "markdown",
      "id": "25acf57e",
      "metadata": {},
      "source": [
        "\n",
        "## 6. Evaluation \n",
        "\n",
        "The model will be evaluated by using:  \n",
        "- **Accuracy**  \n",
        "- **Precision, Recall, F1-score**  \n",
        "- **Confusion Matrix**  \n"
      ]
    },
    {
      "cell_type": "code",
      "execution_count": null,
      "id": "ee7c6e0e",
      "metadata": {},
      "outputs": [],
      "source": [
        "\n",
        "from sklearn.metrics import classification_report, confusion_matrix\n",
        "\n",
        "models = {\n",
        "    \"Logistic Regression\": log_model,\n",
        "    \"Decision Tree\": tree_model,\n",
        "    \"Random Forest\": forest_model\n",
        "}\n",
        "\n",
        "for name, model in models.items():\n",
        "    print(f\"--- {name} ---\")\n",
        "    y_pred = model.predict(X_test)\n",
        "    print(classification_report(y_test, y_pred))\n",
        "    print(\"Confusion Matrix:\\n\", confusion_matrix(y_test, y_pred))\n",
        "    print(\"\\n\")\n"
      ]
    },
    {
      "cell_type": "markdown",
      "id": "df8b884d",
      "metadata": {},
      "source": [
        "\n",
        "## 7. Storytelling \n",
        "\n",
        "The models reveal that:  \n",
        "- **Women had a much higher survival rate than men.**  \n",
        "- **First-class passengers survived at higher rates than third-class passengers.**  \n",
        "- **Younger passengers had a better chance of survival.**  \n",
        "\n",
        "The analysis successfully answered our initial question: **Yes, we can predict survival with reasonable accuracy.**\n"
      ]
    },
    {
      "cell_type": "markdown",
      "id": "576f5cf2",
      "metadata": {},
      "source": [
        "\n",
        "## 8. Impact Section \n",
        "\n",
        "Even though this is a historical dataset, the implications extend to real-world applications:  \n",
        "- **Social impact**: Highlights class and gender inequality during disasters.  \n",
        "- **Ethical impact**: Predictive models should not be used to justify discriminatory practices.  \n",
        "- **Practical impact**: Understanding survival factors can inform future safety policies.  \n"
      ]
    },
    {
      "cell_type": "markdown",
      "id": "1948fdf1",
      "metadata": {},
      "source": [
        "\n",
        "## 9. References \n",
        "\n",
        "- Kaggle Titanic Dataset: https://www.kaggle.com/c/titanic/data  \n",
        "- Scikit-learn documentation: https://scikit-learn.org/  \n",
        "- Jupiter Notebook outline created by Chatgpt GPT-5\n"
      ]
    },
    {
      "cell_type": "markdown",
      "id": "01ff0fac",
      "metadata": {},
      "source": [
        "\n",
        "## 10. Code \n",
        "\n",
        "Full code is provided in this notebook.  \n"
      ]
    },
    {
      "cell_type": "code",
      "execution_count": null,
      "id": "04dc5499",
      "metadata": {},
      "outputs": [],
      "source": []
    }
  ],
  "metadata": {
    "kernelspec": {
      "display_name": "ITCS-3162",
      "language": "python",
      "name": "python3"
    },
    "language_info": {
      "codemirror_mode": {
        "name": "ipython",
        "version": 3
      },
      "file_extension": ".py",
      "mimetype": "text/x-python",
      "name": "python",
      "nbconvert_exporter": "python",
      "pygments_lexer": "ipython3",
      "version": "3.13.5"
    }
  },
  "nbformat": 4,
  "nbformat_minor": 5
}
